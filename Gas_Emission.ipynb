{
  "nbformat": 4,
  "nbformat_minor": 0,
  "metadata": {
    "colab": {
      "provenance": [],
      "gpuType": "T4",
      "authorship_tag": "ABX9TyNnuItMxUG1DFN8P4yO+3Vt",
      "include_colab_link": true
    },
    "kernelspec": {
      "name": "python3",
      "display_name": "Python 3"
    },
    "language_info": {
      "name": "python"
    },
    "accelerator": "GPU"
  },
  "cells": [
    {
      "cell_type": "markdown",
      "metadata": {
        "id": "view-in-github",
        "colab_type": "text"
      },
      "source": [
        "<a href=\"https://colab.research.google.com/github/masifkhan3/GasEmmision/blob/main/Gas_Emission.ipynb\" target=\"_parent\"><img src=\"https://colab.research.google.com/assets/colab-badge.svg\" alt=\"Open In Colab\"/></a>"
      ]
    },
    {
      "cell_type": "code",
      "source": [
        "def calculate_emissions(coal_burned_tons, biomass_burned_tons):\n",
        "    # Define emission factors (in tons per ton of fuel burned)\n",
        "    emission_factors = {\n",
        "        'CO': 0.001,     # tons CO\n",
        "        'CO2': 0.28,     # tons CO2\n",
        "        'NO': 0.00003,   # tons NO\n",
        "        'SO2': 0.0003,   # tons SO2\n",
        "        'O2': 0.075      # tons O2 (approx. excess air)\n",
        "    }\n",
        "\n",
        "    # Define biomass emission factors (in tons per ton of biomass burned)\n",
        "    biomass_emission_factors = {\n",
        "        'CO': 0.0008,    # tons CO\n",
        "        'CO2': 0.09,     # tons CO2\n",
        "        'NO': 0.00002,   # tons NO\n",
        "        'SO2': 0.0005,  # tons SO2\n",
        "        'O2': 0.06       # tons O2 (approx. excess air)\n",
        "    }\n",
        "\n",
        "    # Convert tons to grams\n",
        "    grams_per_ton = 1_000_000  # 1 ton = 1 million grams\n",
        "\n",
        "    # Calculate emissions in grams for coal\n",
        "    emissions_grams_coal = {gas: factor * coal_burned_tons * grams_per_ton for gas, factor in emission_factors.items()}\n",
        "\n",
        "    # Calculate emissions in grams for biomass\n",
        "    emissions_grams_biomass = {gas: factor * biomass_burned_tons * grams_per_ton for gas, factor in biomass_emission_factors.items()}\n",
        "\n",
        "    # Total emissions in grams\n",
        "    total_emissions_grams = {gas: emissions_grams_coal.get(gas, 0) + emissions_grams_biomass.get(gas, 0) for gas in emission_factors.keys()}\n",
        "\n",
        "    # Convert grams to moles\n",
        "    molar_masses = {\n",
        "        'CO': 28.01,   # g/mol\n",
        "        'CO2': 44.01,  # g/mol\n",
        "        'NO': 30.01,   # g/mol\n",
        "        'SO2': 64.07,  # g/mol\n",
        "        'O2': 32.00    # g/mol\n",
        "    }\n",
        "\n",
        "    emissions_moles = {gas: total_emissions_grams[gas] / molar_masses[gas] for gas in total_emissions_grams}\n",
        "\n",
        "    # Assume volume of flue gas produced per ton of coal and biomass burned\n",
        "    volume_of_flue_gas_nmc = 2000  # Nm³ per ton of fuel burned\n",
        "\n",
        "    # Assume standard conditions (1 atm pressure and 25°C)\n",
        "    standard_pressure = 101325  # Pa\n",
        "    standard_temperature = 25 + 273.15  # K\n",
        "    ideal_gas_constant = 8.314  # J/(mol·K)\n",
        "\n",
        "    # Calculate the volume of each gas at standard conditions using the ideal gas law\n",
        "    gas_volumes_nmc = {gas: moles * ideal_gas_constant * standard_temperature / standard_pressure for gas, moles in emissions_moles.items()}\n",
        "\n",
        "    # Calculate concentrations in percentage and mg/Nm³\n",
        "    concentrations = {\n",
        "        'CO': (gas_volumes_nmc['CO'] / (volume_of_flue_gas_nmc * (coal_burned_tons + biomass_burned_tons))) * 100,\n",
        "        'CO2': (gas_volumes_nmc['CO2'] / (volume_of_flue_gas_nmc * (coal_burned_tons + biomass_burned_tons))) * 100,\n",
        "        'O2': (gas_volumes_nmc['O2'] / (volume_of_flue_gas_nmc * (coal_burned_tons + biomass_burned_tons))) * 100,\n",
        "        'NO': (gas_volumes_nmc['NO'] / volume_of_flue_gas_nmc) * 1_000_000,  # Convert to mg/Nm³\n",
        "        'SO2': (gas_volumes_nmc['SO2'] / volume_of_flue_gas_nmc) * 1_000_000  # Convert to mg/Nm³\n",
        "    }\n",
        "\n",
        "    return concentrations\n",
        "\n",
        "# Ask user for the amount of coal and biomass burned\n",
        "try:\n",
        "    coal_burned = float(input(\"Enter the amount of coal burned (in tons): \"))  # Input from user\n",
        "    biomass_burned = float(input(\"Enter the amount of biomass burned (in tons): \"))  # Input from user\n",
        "    if coal_burned < 0 or biomass_burned < 0:\n",
        "        print(\"Please enter positive numbers.\")\n",
        "    else:\n",
        "        emissions = calculate_emissions(coal_burned, biomass_burned)\n",
        "\n",
        "        # Display the results\n",
        "        print(f\"\\nEmissions from burning {coal_burned:.2f} tons of coal and {biomass_burned:.2f} tons of biomass:\")\n",
        "        print(f\"CO concentration: {emissions['CO']:.2f}%\")\n",
        "        print(f\"CO2 concentration: {emissions['CO2']:.2f}%\")\n",
        "        print(f\"O2 concentration: {emissions['O2']:.2f}%\")\n",
        "        print(f\"NO concentration: {emissions['NO']:.2f} mg/Nm³\")\n",
        "        print(f\"SO2 concentration: {emissions['SO2']:.2f} mg/Nm³\")\n",
        "except ValueError:\n",
        "    print(\"Invalid input. Please enter numeric values.\")\n"
      ],
      "metadata": {
        "colab": {
          "base_uri": "https://localhost:8080/"
        },
        "id": "8pBqmMVNCtYx",
        "outputId": "b93aea90-f5b8-40b4-e8bb-8eaec98cd080"
      },
      "execution_count": 3,
      "outputs": [
        {
          "output_type": "stream",
          "name": "stdout",
          "text": [
            "Enter the amount of coal burned (in tons): 8\n",
            "Enter the amount of biomass burned (in tons): 2\n",
            "\n",
            "Emissions from burning 8.00 tons of coal and 2.00 tons of biomass:\n",
            "CO concentration: 0.04%\n",
            "CO2 concentration: 6.73%\n",
            "O2 concentration: 2.75%\n",
            "NO concentration: 114.13 mg/Nm³\n",
            "SO2 concentration: 649.12 mg/Nm³\n"
          ]
        }
      ]
    }
  ]
}